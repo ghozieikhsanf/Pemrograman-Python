{
  "nbformat": 4,
  "nbformat_minor": 0,
  "metadata": {
    "colab": {
      "name": "GhozieIkhsanFairuz1101174489_week12.ipynb",
      "provenance": [],
      "authorship_tag": "ABX9TyPwkRiqWP1WD6qQi5Ta6o4I",
      "include_colab_link": true
    },
    "kernelspec": {
      "name": "python3",
      "display_name": "Python 3"
    }
  },
  "cells": [
    {
      "cell_type": "markdown",
      "metadata": {
        "id": "view-in-github",
        "colab_type": "text"
      },
      "source": [
        "<a href=\"https://colab.research.google.com/github/ghozieikhsanf/Pemrograman-Python/blob/main/GhozieIkhsanFairuz1101174489_week12.ipynb\" target=\"_parent\"><img src=\"https://colab.research.google.com/assets/colab-badge.svg\" alt=\"Open In Colab\"/></a>"
      ]
    },
    {
      "cell_type": "code",
      "metadata": {
        "id": "0D3aPkipfhiY"
      },
      "source": [
        "def pathloss(fc,ht,hr,d,area):\r\n",
        "  if (fc >= 400 and fc <= 1500):\r\n",
        "    c1 = 69.55\r\n",
        "    c2 = 26.16\r\n",
        "    return c1,c2\r\n",
        "  elif (fc >1500 and fc <= 2000):\r\n",
        "    c1 = 46.3\r\n",
        "    c2 = 33.9\r\n",
        "    return c1,c2\r\n",
        "  else:\r\n",
        "    c1 = print(\"The given frequency does not meet the C1 criteria.\")\r\n",
        "    c2 = print(\"The given frequency does not meet the C2 criteria.\")\r\n",
        "    return c1,c2\r\n",
        "  if area == 'urban':\r\n",
        "    cm=0\r\n",
        "    return cm\r\n",
        "  elif area == 'suburban':\r\n",
        "    cm=-2(np.log10(fc/28))**2-5.4\r\n",
        "    return cm\r\n",
        "  elif area == 'open':\r\n",
        "    cm=-4.78*(np.log10(fc))**2+18.33*np.log10(fc)-40.94\r\n",
        "    return cm \r\n",
        "  else:\r\n",
        "    cm= print('the given area is not suitable for this parameter')\r\n",
        "    return cm\r\n",
        "  valueA = (1.1*np.log10(fc)-0.7)*hr - (1.56*np.log(fc) - 0.8)\r\n",
        "  return valueA\r\n",
        "  Lp = c1+(c2*np.log10(fc))-(13.83*np.log10(ht))-a*(hr)+(44.9-6.55*np.log10(ht)*np.log10(d)+cm)\r\n",
        "  LptoDb= NtL(Lp)\r\n",
        "  return Lp,Lpdb"
      ],
      "execution_count": 1,
      "outputs": []
    },
    {
      "cell_type": "code",
      "metadata": {
        "colab": {
          "base_uri": "https://localhost:8080/"
        },
        "id": "P6NJK7h_gM_r",
        "outputId": "24d336b1-b85f-4e14-9d33-55741e6ce5cd"
      },
      "source": [
        "PathLoss,pathlossdB = pathloss (1200,100,10,2,'urban')\r\n",
        "print(\"The Path Loss is \",PathLoss,\"Watt\")\r\n",
        "print(\"The Path Loss in dB is \",pathlossdB,\"dB\")"
      ],
      "execution_count": 2,
      "outputs": [
        {
          "output_type": "stream",
          "text": [
            "The Path Loss is  69.55 Watt\n",
            "The Path Loss in dB is  26.16 dB\n"
          ],
          "name": "stdout"
        }
      ]
    },
    {
      "cell_type": "code",
      "metadata": {
        "id": "N5lavQMUgRu7"
      },
      "source": [
        ""
      ],
      "execution_count": null,
      "outputs": []
    }
  ]
}