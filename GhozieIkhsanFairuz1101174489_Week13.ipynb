{
  "nbformat": 4,
  "nbformat_minor": 0,
  "metadata": {
    "colab": {
      "name": "GhozieIkhsanFairuz1101174489_Week13.ipynb",
      "provenance": [],
      "authorship_tag": "ABX9TyMWi/MM/kf1osh6vOHp4kpD",
      "include_colab_link": true
    },
    "kernelspec": {
      "name": "python3",
      "display_name": "Python 3"
    }
  },
  "cells": [
    {
      "cell_type": "markdown",
      "metadata": {
        "id": "view-in-github",
        "colab_type": "text"
      },
      "source": [
        "<a href=\"https://colab.research.google.com/github/ghozieikhsanf/Pemrograman-Python/blob/main/GhozieIkhsanFairuz1101174489_Week13.ipynb\" target=\"_parent\"><img src=\"https://colab.research.google.com/assets/colab-badge.svg\" alt=\"Open In Colab\"/></a>"
      ]
    },
    {
      "cell_type": "code",
      "metadata": {
        "id": "ziYRdQEJOtZh"
      },
      "source": [
        "import numpy as np \r\n",
        "import matplotlib.pyplot as plt"
      ],
      "execution_count": 1,
      "outputs": []
    },
    {
      "cell_type": "code",
      "metadata": {
        "id": "KlqE8vPIO_DT"
      },
      "source": [
        "def pathloss(fq,types,ht,hr,d):\r\n",
        "\r\n",
        "  # If frequency is define by the range number in MHz then will result to assigned Ca and Cb values\r\n",
        "  if fq in range(150,1501):\r\n",
        "    Ca=69.55\r\n",
        "    Cb=26.16\r\n",
        "  elif fq in range(1501,2001):\r\n",
        "    Ca=46.3\r\n",
        "    Cb=33.9\r\n",
        "  else:\r\n",
        "    Ca = print(\"The given frequency does not meet the C1 criteria.\")\r\n",
        "    Cb = print(\"The given frequency does not meet the C2 criteria.\")\r\n",
        "    return Ca,Cb\r\n",
        "  \r\n",
        "  # Based on area type\r\n",
        "  if types == 'urban' :\r\n",
        "    cm=0\r\n",
        "  elif types == 'suburban' :\r\n",
        "    cm=-2*((np.log10((fq/28)**2))-5.4)\r\n",
        "  elif types == 'open':\r\n",
        "    cm=-4.78*(np.log10(fq))+18.33*(np.log10(fq))-40.94\r\n",
        "  else:\r\n",
        "    cm=print('The given area type(s) is not suitable for this parameter')\r\n",
        "  \r\n",
        "  # a(hr) value is\r\n",
        "  ahr = (1.1*np.log10(fq)-0.7)*hr-(1.56*np.log10(fq)-1.8)\r\n",
        "\r\n",
        "  # Calculating Path Loss Model\r\n",
        "  Lp = Ca+(Cb*np.log10(fq))-(13.83*np.log10(ht))-ahr+((44.9-6.55*np.log10(ht))*np.log10(d))-cm\r\n",
        "  return Lp"
      ],
      "execution_count": 2,
      "outputs": []
    },
    {
      "cell_type": "code",
      "metadata": {
        "colab": {
          "base_uri": "https://localhost:8080/"
        },
        "id": "IBgLbUuPPIGg",
        "outputId": "1742aae0-cc65-4967-ed26-18a21321e7d4"
      },
      "source": [
        "f=1800 #in Mhz\r\n",
        "loc='urban'\r\n",
        "tower=80 #in m\r\n",
        "user=1.5 #in m\r\n",
        "dmin=200 #in m\r\n",
        "dmax=700 #in m\r\n",
        "N=200 #dots\r\n",
        "d=np.random.randint(dmin,dmax,N)\r\n",
        "print(d)"
      ],
      "execution_count": 4,
      "outputs": [
        {
          "output_type": "stream",
          "text": [
            "[626 588 527 345 483 631 638 413 237 274 434 312 453 420 315 398 682 374\n",
            " 580 570 670 326 525 468 274 673 351 291 674 328 435 439 410 613 596 655\n",
            " 557 534 360 263 281 374 417 322 602 243 259 346 229 389 453 565 426 444\n",
            " 622 610 596 273 298 395 278 476 558 460 403 268 363 340 480 501 606 331\n",
            " 301 570 245 671 529 480 375 500 280 454 210 509 404 400 625 420 376 413\n",
            " 669 236 481 255 577 647 483 678 308 232 485 313 487 586 688 539 509 232\n",
            " 315 683 298 514 629 391 626 610 379 322 401 377 293 442 612 615 474 436\n",
            " 366 571 606 242 627 226 442 541 318 590 294 455 694 372 349 278 584 455\n",
            " 309 582 229 372 378 403 210 333 499 528 441 549 248 621 553 388 244 639\n",
            " 696 448 530 299 223 208 305 254 424 362 300 471 590 282 602 310 231 655\n",
            " 303 316 423 396 482 559 419 556 265 331 224 594 689 229 207 440 556 263\n",
            " 472 630]\n"
          ],
          "name": "stdout"
        }
      ]
    },
    {
      "cell_type": "code",
      "metadata": {
        "colab": {
          "base_uri": "https://localhost:8080/"
        },
        "id": "jg3hT_yGPMOJ",
        "outputId": "c9fce2a2-6067-4495-de1c-4029a76450fc"
      },
      "source": [
        "LpUrban=pathloss(f,loc,tower,user,d)\r\n",
        "print(LpUrban)"
      ],
      "execution_count": 5,
      "outputs": [
        {
          "output_type": "stream",
          "text": [
            "[219.99724783 219.11511942 217.57230454 211.60458363 216.34421149\n",
            " 220.10931078 220.26471608 214.13874251 206.31542293 208.35888475\n",
            " 214.8373768  210.188336   215.44093815 214.37549157 210.32313356\n",
            " 213.61761387 221.20414662 212.74150331 218.92215424 218.67717002\n",
            " 220.9540885  210.80664003 217.51874464 215.89981383 208.35888475\n",
            " 221.01702042 211.84745582 209.20680808 221.0379354  210.89279466\n",
            " 214.86979623 214.99873295 214.03604773 219.70164201 219.30547688\n",
            " 220.63514119 218.35218473 217.75817654 212.20408847 207.78171421\n",
            " 208.71423211 212.74150331 214.27451452 210.63273366 219.44657559\n",
            " 206.66759721 207.56582895 211.64535425 205.83172777 213.29542412\n",
            " 215.44093815 218.5530614  214.5752997  215.15826169 219.90695113\n",
            " 219.63253523 219.30547688 208.30738108 209.54164104 213.51103401\n",
            " 208.56303669 216.13856933 218.37745154 215.65694164 213.7934743\n",
            " 208.04699959 212.32098738 211.39894148 216.25644648 216.85961913\n",
            " 219.53986228 211.02104657 209.68273976 218.67717002 206.78305882\n",
            " 220.97509706 217.62566156 216.25644648 212.77911679 216.83147479\n",
            " 208.66401374 215.47199933 204.61165573 217.08277212 213.82838445\n",
            " 213.68822172 219.97472786 214.37549157 212.81663009 214.13874251\n",
            " 220.93304856 206.25586158 216.28576228 207.34658347 218.84910531\n",
            " 220.46203625 216.34421149 221.12128616 210.00657557 206.01506533\n",
            " 216.40241916 210.233412   216.4603873  219.06712538 221.32753051\n",
            " 217.88945649 217.08277212 206.01506533 210.32313356 221.2247858\n",
            " 209.54164104 217.2204686  220.06459252 213.3676614  219.99724783\n",
            " 219.63253523 212.92857429 210.63273366 213.72339337 212.85404376\n",
            " 209.30328954 215.09466683 219.67864407 219.74752556 216.07925877\n",
            " 214.90214122 212.43692415 218.70186107 219.53986228 206.60950955\n",
            " 220.01973186 205.64597249 215.09466683 217.9416278  210.4566534\n",
            " 219.16295049 209.35128358 215.50299216 221.44984304 212.66597371\n",
            " 211.76696281 208.56303669 219.01896725 215.50299216 210.05223602\n",
            " 218.97064392 205.83172777 212.66597371 212.89135832 213.7934743\n",
            " 204.61165573 211.10590368 216.80327411 217.59900832 215.06276141\n",
            " 218.14840198 206.95449588 219.88428622 218.25066186 213.25916609\n",
            " 206.72544632 220.28677753 221.490379   215.28459651 217.65226448\n",
            " 209.58883116 205.45773489 204.47685817 209.86869939 207.29123472\n",
            " 214.50901141 212.28212877 209.63586371 215.98982204 219.16295049\n",
            " 208.76427208 219.44657559 210.09774895 205.95421756 220.63514119\n",
            " 209.77602644 210.36778094 214.47574991 213.54665031 216.3150172\n",
            " 218.4026731  214.34191292 218.32687253 207.88842864 211.02104657\n",
            " 205.52076067 219.25812813 221.34798983 205.83172777 204.40897255\n",
            " 215.03078356 218.32687253 207.78171421 216.01969742 220.0869694 ]\n"
          ],
          "name": "stdout"
        }
      ]
    },
    {
      "cell_type": "code",
      "metadata": {
        "colab": {
          "base_uri": "https://localhost:8080/"
        },
        "id": "4E0f_qMTPY8t",
        "outputId": "c9df5b2e-b73b-43f8-bc2c-1bcaa32233d7"
      },
      "source": [
        "f2=1800 #in Mhz\r\n",
        "loc2='suburban'\r\n",
        "tower2=80 #in m\r\n",
        "user2=1.5 #in m\r\n",
        "dmin2=200 #in m\r\n",
        "dmax2=700 #in m\r\n",
        "N2=200 #dots\r\n",
        "d2=np.random.randint(dmin2,dmax2,N2)\r\n",
        "print(d2)"
      ],
      "execution_count": 6,
      "outputs": [
        {
          "output_type": "stream",
          "text": [
            "[230 668 500 521 556 251 204 485 649 686 608 339 468 626 203 293 397 492\n",
            " 350 467 614 546 688 462 476 406 337 627 285 269 422 382 385 536 376 260\n",
            " 660 382 641 359 603 650 547 319 451 308 555 404 381 556 362 416 524 467\n",
            " 655 502 655 222 456 433 360 219 312 567 386 274 572 410 424 525 249 610\n",
            " 431 650 642 262 482 312 371 564 607 496 495 565 639 459 554 429 574 312\n",
            " 643 539 557 438 459 509 306 403 499 535 204 478 291 296 482 279 408 615\n",
            " 200 625 353 410 507 393 461 567 675 390 683 258 528 681 578 262 618 552\n",
            " 662 206 618 464 626 693 421 454 273 519 323 659 415 550 304 291 349 596\n",
            " 671 457 201 459 627 493 576 406 316 440 268 419 529 426 466 467 492 646\n",
            " 640 277 608 426 581 247 389 556 433 415 438 459 608 692 583 621 371 251\n",
            " 676 397 394 586 294 477 251 400 671 648 528 541 371 496 285 304 333 373\n",
            " 227 617]\n"
          ],
          "name": "stdout"
        }
      ]
    },
    {
      "cell_type": "code",
      "metadata": {
        "colab": {
          "base_uri": "https://localhost:8080/"
        },
        "id": "nOwNIgM8PduW",
        "outputId": "653fbd5f-47c1-40f1-b03c-72007eeb9133"
      },
      "source": [
        "LpSuburban=pathloss(f2,loc2,tower2,user2,d2)\r\n",
        "print(LpSuburban)"
      ],
      "execution_count": 7,
      "outputs": [
        {
          "output_type": "stream",
          "text": [
            "[202.3255637  217.34443504 213.26393269 213.84346788 214.75933043\n",
            " 203.55632941 200.63578829 212.83487706 216.93797022 217.71898041\n",
            " 216.01873286 207.78990822 212.33227172 216.42970573 200.56656831\n",
            " 205.73574743 210.01463467 213.03673038 208.2397247  212.30214072\n",
            " 216.15706036 214.50367481 217.75998841 212.15051129 212.57102723\n",
            " 210.33040415 207.70655746 216.45218975 205.34579208 204.53192026\n",
            " 210.87486758 209.47209376 209.58228654 214.24329332 209.24908798\n",
            " 204.05256913 217.17471928 209.47209376 216.76325496 208.59736348\n",
            " 215.90241314 216.95965804 214.52945019 206.93333813 211.81106746\n",
            " 206.43903347 214.73397266 210.26084234 209.43517045 214.75933043\n",
            " 208.71458667 210.6731519  213.92434602 212.30214072 217.06759909\n",
            " 213.32016525 217.06759909 201.82688375 211.96637485 211.23734048\n",
            " 208.63654637 201.6352313  206.62079389 215.03529404 209.61882673\n",
            " 204.79134264 215.1589668  210.46850563 210.9414693  213.95120253\n",
            " 203.44363891 216.06499312 211.1721263  216.95965804 216.78521324\n",
            " 204.16051018 212.7474751  206.62079389 209.06051438 214.96056581\n",
            " 215.99554563 213.15078961 213.12236127 214.9855193  216.71923543\n",
            " 212.05874395 214.70856915 211.1066088  215.20813348 206.62079389\n",
            " 216.80713735 214.32191439 214.78464263 211.39906714 212.05874395\n",
            " 213.51523001 206.34726612 210.2259322  213.235732   214.21698848\n",
            " 200.63578829 212.6300891  205.63926598 205.87924176 212.7474751\n",
            " 205.04607359 210.39962413 216.17998345 200.35684378 216.40718576\n",
            " 208.35994937 210.46850563 213.45977231 209.87198801 212.11998856\n",
            " 215.03529404 217.49127727 209.76404696 217.65724369 203.94379456\n",
            " 214.03146621 217.61593505 215.30595497 204.16051018 216.24852976\n",
            " 214.6576243  217.2173403  200.77321609 216.24852976 212.21135907\n",
            " 216.42970573 217.86198912 210.84144826 211.90445722 204.73983898\n",
            " 213.78928997 207.10886984 217.15336031 210.63924999 214.60649452\n",
            " 206.25489702 205.63926598 208.19942071 215.73793477 217.40755495\n",
            " 211.9972319  200.42709948 212.05874395 216.45218975 213.06533189\n",
            " 215.25712914 210.33040415 206.80023884 211.46324145 204.47945749\n",
            " 210.77437081 214.05811946 211.0077576  212.27194513 212.30214072\n",
            " 213.03673038 216.87270568 216.74126239 204.94473332 216.01873286\n",
            " 211.0077576  215.37887784 203.3300396  209.72788202 214.75933043\n",
            " 211.23734048 210.63924999 211.39906714 212.05874395 216.01873286\n",
            " 217.84164798 215.4272842  216.31674412 209.06051438 203.55632941\n",
            " 217.51213032 210.01463467 209.90778533 215.49958327 205.78374148\n",
            " 212.60058912 203.55632941 210.12067962 217.40755495 216.91624896\n",
            " 214.03146621 214.3740857  209.06051438 213.15078961 205.34579208\n",
            " 206.25489702 207.53836158 209.13624703 202.14062138 216.22571803]\n"
          ],
          "name": "stdout"
        }
      ]
    },
    {
      "cell_type": "code",
      "metadata": {
        "colab": {
          "base_uri": "https://localhost:8080/"
        },
        "id": "6sNZRXZAPi2n",
        "outputId": "5043a91f-4e6d-44a3-dd46-b948b7c60545"
      },
      "source": [
        "f3=1800 #in Mhz\r\n",
        "loc3='open'\r\n",
        "tower3=80 #in m\r\n",
        "user3=1.5 #in m\r\n",
        "dmin3=200 #in m\r\n",
        "dmax3=700 #in m\r\n",
        "N3=200 #dots\r\n",
        "d3=np.random.randint(dmin2,dmax2,N2)\r\n",
        "print(d3)"
      ],
      "execution_count": 8,
      "outputs": [
        {
          "output_type": "stream",
          "text": [
            "[409 371 293 518 463 320 648 395 226 480 624 438 228 498 469 306 633 267\n",
            " 258 405 626 378 661 685 399 515 298 623 237 645 537 289 375 519 576 485\n",
            " 203 363 239 653 370 208 592 526 205 376 245 203 294 561 358 340 650 435\n",
            " 317 427 230 322 247 442 669 548 371 619 267 244 593 671 675 260 441 486\n",
            " 579 569 489 490 674 406 290 504 443 323 412 327 617 232 501 477 248 530\n",
            " 383 269 565 208 299 618 334 450 533 495 574 351 662 414 414 638 681 675\n",
            " 500 474 359 296 431 390 328 418 689 359 348 263 326 658 659 330 347 374\n",
            " 448 577 612 650 465 208 444 210 435 443 462 552 227 388 587 351 398 223\n",
            " 207 334 603 396 285 616 560 693 635 417 587 680 514 649 465 215 554 626\n",
            " 682 442 566 552 241 539 531 277 563 368 282 544 336 357 677 698 368 406\n",
            " 363 430 631 628 401 402 678 416 222 327 643 258 503 507 564 640 581 671\n",
            " 507 450]\n"
          ],
          "name": "stdout"
        }
      ]
    },
    {
      "cell_type": "code",
      "metadata": {
        "colab": {
          "base_uri": "https://localhost:8080/"
        },
        "id": "uwtjU0vXPnDK",
        "outputId": "f0093c62-1a08-48cb-ef83-c8c631071696"
      },
      "source": [
        "LpOpen=pathloss(f3,loc3,tower3,user3,d3)\r\n",
        "print(LpOpen)"
      ],
      "execution_count": 9,
      "outputs": [
        {
          "output_type": "stream",
          "text": [
            "[210.83270664 209.45911405 206.13434709 214.16072234 212.5795677\n",
            " 207.37602621 217.31484862 210.34209157 202.47703005 213.08750404\n",
            " 216.78322939 211.7976668  202.60113867 213.60607441 212.76093807\n",
            " 206.74586578 216.98494507 204.82539825 204.34239422 210.69426585\n",
            " 216.82830539 209.72241587 217.59464557 218.09703121 210.48401959\n",
            " 214.07890466 206.37269859 216.76063718 203.14648049 217.24948313\n",
            " 214.66814879 205.94071879 209.61017434 214.18788963 215.6557288\n",
            " 213.23347672 200.96516797 209.15204494 203.26485293 217.42312154\n",
            " 209.42109449 201.30791572 216.04167726 214.3766076  201.10326945\n",
            " 209.64768765 203.61411638 200.96516797 206.18234114 215.2840387\n",
            " 208.95667097 208.22999903 217.3582577  211.70085379 207.24334481\n",
            " 211.4393848  202.72416336 207.46379121 203.72863927 211.92572439\n",
            " 217.76410611 214.95377814 209.45911405 216.66990426 204.82539825\n",
            " 203.55650387 216.0654515  217.80615462 217.88987693 204.45116879\n",
            " 211.89381896 213.26249061 215.72890422 215.48349318 213.34917542\n",
            " 213.37795222 217.86899295 210.72900381 205.98937596 213.77477388\n",
            " 211.95755771 207.5074695  210.93565159 207.68084077 216.62431769\n",
            " 202.84612289 213.69067669 212.99918878 203.78555343 214.48332203\n",
            " 209.90752021 204.93051992 215.38411896 201.30791572 206.41988871\n",
            " 216.64712942 207.97919886 212.1783991  214.56283064 213.52096093\n",
            " 215.60673314 208.67851337 217.61593997 211.00386595 211.00386595\n",
            " 217.09577363 218.01453471 217.88987693 213.66253235 212.91031632\n",
            " 208.99596315 206.27784142 211.57072596 210.16264662 207.72385222\n",
            " 211.13931158 218.17904738 208.99596315 208.55760072 204.61277176\n",
            " 207.63769759 217.53056857 217.55195997 207.8094831  208.51706476\n",
            " 209.57256087 212.11565406 215.68016287 216.50970162 217.3582577\n",
            " 212.64028433 201.30791572 211.98931925 201.44271328 211.70085379\n",
            " 211.95755771 212.54911096 215.05622396 202.53922104 210.09022365\n",
            " 215.92220039 208.67851337 210.44867143 202.28879245 201.24003011\n",
            " 207.97919886 216.3010128  210.37770786 205.74439174 216.60146897\n",
            " 215.25890713 218.26058878 217.02938119 211.10557208 215.92220039\n",
            " 217.99383487 214.05152615 217.33656988 212.64028433 201.77416946\n",
            " 215.10716882 216.82830539 218.03520418 211.92572439 215.40902831\n",
            " 215.05622396 203.38223892 214.72051405 214.5098748  205.34333298\n",
            " 215.33416771 209.34474613 205.59532964 214.8505818  208.06329605\n",
            " 208.91726888 217.93155222 218.36185621 209.34474613 210.72900381\n",
            " 209.15204494 211.5380053  216.94036833 216.8732376  210.55445093\n",
            " 210.58953497 217.95234372 211.07175156 202.22548341 207.68084077\n",
            " 217.20573701 204.34239422 213.74679723 213.85837198 215.35916547\n",
            " 217.13986205 215.7774775  217.80615462 213.85837198 212.1783991 ]\n"
          ],
          "name": "stdout"
        }
      ]
    },
    {
      "cell_type": "code",
      "metadata": {
        "id": "Z8-9JFHhPrmy"
      },
      "source": [
        "d_sort=d[np.argsort(d)]\r\n",
        "Urban_sort=LpUrban[np.argsort(d)]\r\n",
        "\r\n",
        "d2_sort=d2[np.argsort(d2)]\r\n",
        "Suburban_sort=LpSuburban[np.argsort(d2)]\r\n",
        "\r\n",
        "d3_sort=d3[np.argsort(d3)]\r\n",
        "Open_sort=LpOpen[np.argsort(d3)]"
      ],
      "execution_count": 10,
      "outputs": []
    },
    {
      "cell_type": "code",
      "metadata": {
        "colab": {
          "base_uri": "https://localhost:8080/",
          "height": 295
        },
        "id": "ym5hxPECPuTj",
        "outputId": "896cfcb2-9422-4fa1-a3b3-5e93584c12da"
      },
      "source": [
        "fig, ax = plt.subplots()\r\n",
        "ax.plot(d_sort,Urban_sort, color='b', label='Urban')\r\n",
        "ax.plot(d2_sort,Suburban_sort, color='r', label='Sub Urban')\r\n",
        "ax.plot(d3_sort,Open_sort, color='g', label='Open')\r\n",
        "ax.set_title('Frequency of 1800 MHz based on Type Area given')\r\n",
        "ax.set_xlabel('Distance (m)')\r\n",
        "ax.set_ylabel('Pathloss (dB)')\r\n",
        "ax.legend(loc='upper left')\r\n",
        "plt.show()"
      ],
      "execution_count": 11,
      "outputs": [
        {
          "output_type": "display_data",
          "data": {
            "image/png": "[encoded data removed]",
            "text/plain": [
              "<Figure size 432x288 with 1 Axes>"
            ]
          },
          "metadata": {
            "tags": [],
            "needs_background": "light"
          }
        }
      ]
    },
    {
      "cell_type": "code",
      "metadata": {
        "colab": {
          "base_uri": "https://localhost:8080/"
        },
        "id": "iM9CrSg5PxbF",
        "outputId": "785bc403-8388-4472-820a-20e08d6f1f3e"
      },
      "source": [
        "f4=700 #in Mhz\r\n",
        "loc4='urban'\r\n",
        "tower4=80 #in m\r\n",
        "user4=1.5 #in m\r\n",
        "dmin4=200 #in m\r\n",
        "dmax4=700 #in m\r\n",
        "N4=200 #dots\r\n",
        "d4=np.random.randint(dmin2,dmax2,N2)\r\n",
        "print(d4)"
      ],
      "execution_count": 13,
      "outputs": [
        {
          "output_type": "stream",
          "text": [
            "[468 495 615 452 280 684 229 633 532 534 647 206 362 610 656 666 505 541\n",
            " 550 683 676 354 322 216 439 494 418 343 621 570 614 662 354 562 248 427\n",
            " 560 232 254 673 660 425 211 673 357 480 408 384 261 227 393 607 372 349\n",
            " 210 502 559 252 341 633 326 415 486 343 443 328 234 276 506 565 555 369\n",
            " 677 508 471 642 569 321 237 334 370 227 626 636 593 683 692 391 265 584\n",
            " 527 211 208 333 407 388 590 297 683 442 214 293 297 655 280 265 584 583\n",
            " 274 367 516 680 413 675 393 284 217 441 456 315 498 436 366 487 265 439\n",
            " 435 252 492 623 222 266 205 415 623 369 478 352 531 543 498 417 507 428\n",
            " 428 422 279 645 327 575 253 598 604 346 383 452 243 409 678 444 319 379\n",
            " 592 348 268 245 473 271 530 325 673 355 564 405 393 275 329 636 678 270\n",
            " 678 480 642 317 216 427 345 212 346 640 246 510 274 655 397 663 303 461\n",
            " 558 533]\n"
          ],
          "name": "stdout"
        }
      ]
    },
    {
      "cell_type": "code",
      "metadata": {
        "colab": {
          "base_uri": "https://localhost:8080/"
        },
        "id": "SYTJ9DE5P0Id",
        "outputId": "702a92fa-9b04-42ef-b3c1-ce6c8eefbe1b"
      },
      "source": [
        "LpUrbanFQ1=pathloss(f4,loc4,tower4,user4,d4)\r\n",
        "print(LpUrbanFQ1)"
      ],
      "execution_count": 14,
      "outputs": [
        {
          "output_type": "stream",
          "text": [
            "[203.26075633 204.05084588 207.10846807 202.77075084 196.02495624\n",
            " 208.60633729 193.19267027 207.51483002 205.06626255 205.11911904\n",
            " 207.82297875 191.7017007  199.64307128 206.99347773 208.017573\n",
            " 208.23068202 204.33258002 205.30257031 205.53497913 208.5857283\n",
            " 208.44061493 199.32828192 197.99367616 192.3694199  202.35967545\n",
            " 204.02236005 201.66919653 198.88362918 207.24522873 206.03811253\n",
            " 207.08554497 208.14582492 199.32828192 205.83901045 194.31543838\n",
            " 201.96926975 205.78879208 193.37600784 194.65217723 208.37796292\n",
            " 208.10320389 201.90313705 192.03951635 208.37796292 199.44715383\n",
            " 203.61738899 201.32810874 200.47413592 195.03512766 193.06910599\n",
            " 200.80047262 206.92403024 200.02691621 199.12790532 191.97259823\n",
            " 204.24864986 205.7636156  194.54082299 198.80125329 207.51483002\n",
            " 198.16758254 201.5677346  203.79237556 198.88362918 202.48744265\n",
            " 198.25373717 193.49692049 195.82227307 204.36044598 205.91400391\n",
            " 205.66245727 199.91285699 208.46143717 204.41601307 203.35076455\n",
            " 207.71369785 206.01337813 197.94986201 193.67636544 198.50908381\n",
            " 199.95097944 193.06910599 207.35819034 207.58143174 206.59533645\n",
            " 208.5857283  208.77013259 200.7286039  195.24937114 206.37990976\n",
            " 204.93324705 192.03951635 191.83780067 198.46684619 201.29354127\n",
            " 200.6201086  206.523893   196.8552348  208.5857283  202.45560934\n",
            " 192.23838419 196.66423204 196.8552348  207.9960837  196.02495624\n",
            " 195.24937114 206.37990976 206.35576881 195.71982725 199.83630116\n",
            " 204.63611501 208.52371982 201.49968501 208.41976188 200.80047262\n",
            " 196.22476438 192.43448347 202.42370391 202.89485946 197.68407606\n",
            " 204.13595936 202.26308373 199.79786665 203.82132981 195.24937114\n",
            " 202.35967545 202.23073874 194.54082299 203.965215   207.29052213\n",
            " 192.75536836 195.30242671 191.6331544  201.5677346  207.29052213\n",
            " 199.91285699 203.55857372 199.24847299 205.03975975 205.3545491\n",
            " 204.13595936 201.63545703 204.38825693 202.00222002 202.00222002\n",
            " 201.80335219 195.9745582  207.77936808 198.21072572 206.16113722\n",
            " 194.59661014 206.7136095  206.85423867 199.00629676 200.43740516\n",
            " 202.77075084 194.02853972 201.36259159 208.48222867 202.5192042\n",
            " 197.86182274 200.28951679 206.57156221 199.08748567 195.4079421\n",
            " 194.14400133 203.41045208 195.56474784 205.01320698 198.12430681\n",
            " 208.37796292 199.36801745 205.88905042 201.2241508  200.80047262\n",
            " 195.7711433  198.29661768 207.58143174 208.48222867 195.51267297\n",
            " 208.48222867 203.61738899 207.71369785 197.77322976 192.3694199\n",
            " 201.96926975 198.96552614 192.10611807 199.00629676 207.669747\n",
            " 194.20137916 204.47136181 195.71982725 207.9960837  200.94311928\n",
            " 208.16708716 197.13696894 203.04847317 205.73839404 205.09271559]\n"
          ],
          "name": "stdout"
        }
      ]
    },
    {
      "cell_type": "code",
      "metadata": {
        "colab": {
          "base_uri": "https://localhost:8080/"
        },
        "id": "Fg8RJ8WJP8o8",
        "outputId": "6ca8a37b-c0f0-4f6d-d18a-c4a341e19b4e"
      },
      "source": [
        "f5=900 #in Mhz\r\n",
        "loc5='urban'\r\n",
        "tower5=80 #in m\r\n",
        "user5=1.5 #in m\r\n",
        "dmin5=200 #in m\r\n",
        "dmax5=700 #in m\r\n",
        "N5=200 #dots\r\n",
        "d5=np.random.randint(dmin2,dmax2,N2)\r\n",
        "print(d5)"
      ],
      "execution_count": 15,
      "outputs": [
        {
          "output_type": "stream",
          "text": [
            "[383 625 428 359 677 443 662 694 567 590 274 311 622 692 538 537 653 271\n",
            " 231 495 676 422 597 246 570 626 316 603 220 390 416 633 446 654 440 646\n",
            " 481 271 553 649 609 342 202 335 210 328 411 481 646 266 400 637 291 466\n",
            " 433 419 373 331 220 671 664 218 516 317 608 490 694 347 395 509 584 379\n",
            " 260 584 219 279 350 211 500 487 278 651 277 575 295 359 518 365 260 301\n",
            " 587 249 636 362 654 420 661 381 318 290 421 419 450 269 611 628 246 215\n",
            " 226 674 415 617 206 331 523 398 538 470 269 536 488 642 297 236 629 212\n",
            " 377 249 250 443 241 391 386 587 617 457 508 358 240 569 324 488 646 360\n",
            " 395 284 347 356 548 350 471 243 646 694 639 615 218 291 339 467 225 361\n",
            " 335 641 220 515 489 360 229 261 445 529 411 256 510 564 229 624 276 653\n",
            " 621 524 602 480 451 591 657 217 430 637 273 252 346 623 382 345 312 560\n",
            " 435 671]\n"
          ],
          "name": "stdout"
        }
      ]
    },
    {
      "cell_type": "code",
      "metadata": {
        "colab": {
          "base_uri": "https://localhost:8080/"
        },
        "id": "KLTFC_dVQBf5",
        "outputId": "13230341-bcd4-4b02-85d8-ecdfed9c2559"
      },
      "source": [
        "LpUrbanFQ2=pathloss(f5,loc5,tower5,user5,d5)\r\n",
        "print(LpUrbanFQ2)"
      ],
      "execution_count": 16,
      "outputs": [
        {
          "output_type": "stream",
          "text": [
            "[203.28280148 210.18106669 204.84761634 202.37124441 211.30683348\n",
            " 205.33283897 210.99122123 211.65618186 208.80917497 209.36928932\n",
            " 198.56522357 200.34945412 210.11328995 211.61552891 208.06963702\n",
            " 208.04343006 210.7984028  198.41014416 196.16055639 206.8962422\n",
            " 211.28601125 204.64874851 209.53543052 197.04677547 208.88350885\n",
            " 210.20358666 200.57411976 209.67629407 195.47328654 203.53792789\n",
            " 204.44703283 210.36022634 205.42790955 210.81995788 205.23712238\n",
            " 210.64658661 206.49210111 198.41014416 208.45700069 210.71185115\n",
            " 209.81576291 201.68789777 194.27088743 201.39659148 194.81799455\n",
            " 201.09913348 204.2767014  206.49210111 210.64658661 198.14782303\n",
            " 203.89456055 210.44895884 199.41314691 206.04582606 205.0112214\n",
            " 204.54825174 202.91012796 201.22738539 195.47328654 211.18143588\n",
            " 211.03371369 195.34464421 207.48151132 200.61862608 209.79261379\n",
            " 206.75323348 211.65618186 201.89234602 203.71737283 207.28911094\n",
            " 209.22530608 203.13491311 197.82645006 209.22530608 195.40911223\n",
            " 198.81995452 202.01360563 194.88491267 207.03781362 206.66672612\n",
            " 198.76937552 210.75519345 198.71861424 209.00653354 199.60545348\n",
            " 202.37124441 207.53600361 202.60472331 197.82645006 199.88907858\n",
            " 209.29748166 197.21751984 210.42682806 202.48846759 210.81995788\n",
            " 204.58183039 210.96992684 203.20905138 200.66299222 199.36465723\n",
            " 204.61532919 204.54825174 205.55368037 198.30580118 209.86194734\n",
            " 210.24851887 197.04677547 195.14945073 195.85231132 211.24427422\n",
            " 204.41313092 209.99959896 194.54709702 201.22738539 207.67131913\n",
            " 203.82395269 208.06963702 206.16622198 198.30580118 208.01717425\n",
            " 206.69562098 210.55909417 199.70063112 196.46220041 210.27093135\n",
            " 194.95151439 203.06038258 197.21751984 197.27397778 205.33283897\n",
            " 196.75752019 203.57400022 203.39270766 209.29748166 209.99959896\n",
            " 205.77111283 207.26140939 202.33195223 196.69894947 208.85877445\n",
            " 200.92629405 206.69562098 210.64658661 202.4104273  203.71737283\n",
            " 199.0701607  201.89234602 202.25303753 208.32905941 202.01360563\n",
            " 206.19616086 196.87393604 210.64658661 211.65618186 210.49311636\n",
            " 209.95386438 195.34464421 199.41314691 201.56378914 206.07602165\n",
            " 195.78984453 202.44950149 201.39659148 210.53713589 195.47328654\n",
            " 207.45418593 206.72445669 202.4104273  196.03806659 197.88052398\n",
            " 205.3962906  207.83200039 204.2767014  197.60805441 207.31675813\n",
            " 208.73444674 196.03806659 210.15851066 198.66766939 210.7984028\n",
            " 210.09062505 207.69822695 209.65291442 206.46278531 205.58494839\n",
            " 209.39314408 210.8844259  195.27987979 204.91328657 210.44895884\n",
            " 198.5137199  197.38621931 201.85169307 210.13591845 203.24597469\n",
            " 201.81092246 200.39467482 208.6341884  205.07613506 211.18143588]\n"
          ],
          "name": "stdout"
        }
      ]
    },
    {
      "cell_type": "code",
      "metadata": {
        "colab": {
          "base_uri": "https://localhost:8080/"
        },
        "id": "Yfz3N7VpQF1V",
        "outputId": "786f8d01-856d-4a63-e57e-2116d54e3199"
      },
      "source": [
        "f6=1800 #in Mhz\r\n",
        "loc6='urban'\r\n",
        "tower6=80 #in m\r\n",
        "user6=1.5 #in m\r\n",
        "dmin6=200 #in m\r\n",
        "dmax6=700 #in m\r\n",
        "N6=200 #dots\r\n",
        "d6=np.random.randint(dmin2,dmax2,N2)\r\n",
        "print(d6)"
      ],
      "execution_count": 19,
      "outputs": [
        {
          "output_type": "stream",
          "text": [
            "[662 495 224 559 501 539 217 301 658 511 410 366 457 406 474 411 484 523\n",
            " 505 367 651 491 447 523 207 246 485 262 399 430 582 238 435 548 663 367\n",
            " 299 597 496 220 486 354 308 376 346 402 246 371 225 404 349 264 448 548\n",
            " 322 605 448 606 678 308 200 300 452 535 260 264 461 610 297 344 635 409\n",
            " 621 250 677 379 677 651 367 688 457 385 324 637 444 488 630 665 503 378\n",
            " 392 427 319 484 459 616 317 330 258 568 431 656 255 290 567 495 302 485\n",
            " 424 462 551 530 363 694 444 657 230 531 381 677 467 698 665 687 237 492\n",
            " 555 426 573 538 567 643 209 609 674 201 522 296 245 266 681 547 409 601\n",
            " 206 393 550 638 666 430 303 666 574 241 446 647 460 232 420 492 487 617\n",
            " 226 660 200 248 697 240 274 504 268 220 239 307 367 446 695 682 382 229\n",
            " 594 349 647 595 241 669 219 531 592 411 319 504 568 392 653 501 301 677\n",
            " 641 253]\n"
          ],
          "name": "stdout"
        }
      ]
    },
    {
      "cell_type": "code",
      "metadata": {
        "colab": {
          "base_uri": "https://localhost:8080/"
        },
        "id": "jIVWTN1QQK3g",
        "outputId": "862be11f-8c1e-4338-fc9e-0d2738fe4150"
      },
      "source": [
        "LpUrbanFQ3=pathloss(f6,loc6,tower6,user6,d6)\r\n",
        "print(LpUrbanFQ3)"
      ],
      "execution_count": 20,
      "outputs": [
        {
          "output_type": "stream",
          "text": [
            "[220.78488241 216.68990338 205.52076067 218.4026731  216.85961913\n",
            " 217.88945649 205.07354096 209.68273976 220.69951101 217.13801234\n",
            " 214.03604773 212.43692415 215.564774   213.89794626 216.07925877\n",
            " 214.07036258 216.37334539 217.46498031 216.97163752 212.47535865\n",
            " 220.54885463 216.57561279 215.25311887 217.46498031 204.40897255\n",
            " 206.84043665 216.40241916 207.72805228 213.65296204 214.70694774\n",
            " 218.97064392 206.37473349 214.86979623 218.12272059 220.80614466\n",
            " 212.47535865 209.58883116 219.3290917  216.71833172 205.26694772\n",
            " 216.43143305 211.96733941 210.00657557 212.81663009 211.64535425\n",
            " 213.75847742 206.84043665 212.62805649 205.58350571 213.82838445\n",
            " 211.76696281 207.83517248 215.28459651 218.12272059 210.63273366\n",
            " 219.51659846 215.28459651 219.53986228 221.12128616 210.00657557\n",
            " 203.92438589 209.63586371 215.40980833 217.78453059 207.62011124\n",
            " 207.83517248 215.68753066 219.63253523 209.4942923  211.56369467\n",
            " 220.19832363 214.00164909 219.88428622 207.06763896 221.10049466\n",
            " 212.92857429 221.10049466 220.54885463 212.47535865 221.32753051\n",
            " 215.564774   213.14982864 210.71995522 220.24262001 215.15826169\n",
            " 216.48928216 220.0869694  220.84857312 216.91573968 212.89135832\n",
            " 213.40364159 214.60832724 210.50088024 216.37334539 215.62628606\n",
            " 219.77041141 210.41228726 210.97842555 207.51133666 218.62765771\n",
            " 214.7396684  220.6566305  207.34658347 209.1583184  218.60283614\n",
            " 216.68990338 209.72946032 216.40241916 214.50901141 215.7180534\n",
            " 218.19962471 217.65226448 212.32098738 221.44984304 215.15826169\n",
            " 220.67808707 205.89310581 217.67881724 213.00271255 221.10049466\n",
            " 215.86968282 221.53079865 220.84857312 221.30704143 206.31542293\n",
            " 216.60427249 218.30151476 214.5752997  218.7511137  217.8632982\n",
            " 218.60283614 220.37467946 204.54441819 219.60942409 221.0379354\n",
            " 203.99464158 217.43802099 209.44678386 206.78305882 207.94148421\n",
            " 221.18347715 218.09699229 214.00164909 219.42315707 204.3407582\n",
            " 213.43953011 218.17403663 220.26471608 220.86973952 214.70694774\n",
            " 209.77602644 220.86973952 218.77567558 206.55118136 215.22157073\n",
            " 220.46203625 215.65694164 206.01506533 214.37549157 216.60427249\n",
            " 216.4603873  219.79326014 205.64597249 220.74226139 203.92438589\n",
            " 206.95449588 221.51060332 206.49261064 208.35888475 216.94371633\n",
            " 208.04699959 205.26694772 206.43379537 209.96076663 212.47535865\n",
            " 215.22157073 221.4701256  221.20414662 213.03963587 205.83172777\n",
            " 219.25812813 211.76696281 220.46203625 219.2818224  206.55118136\n",
            " 220.93304856 205.20277341 217.67881724 219.2106197  214.07036258\n",
            " 210.50088024 216.94371633 218.62765771 213.40364159 220.59206398\n",
            " 216.85961913 209.68273976 221.10049466 220.33079706 207.23566764]\n"
          ],
          "name": "stdout"
        }
      ]
    },
    {
      "cell_type": "code",
      "metadata": {
        "id": "v4JsGdsZQTZV"
      },
      "source": [
        "d4_sort=d4[np.argsort(d4)]\r\n",
        "UrbanFQ_sort=LpUrbanFQ1[np.argsort(d4)]\r\n",
        "\r\n",
        "d5_sort=d5[np.argsort(d5)]\r\n",
        "UrbanFQ2_sort=LpUrbanFQ2[np.argsort(d5)]\r\n",
        "\r\n",
        "d6_sort=d6[np.argsort(d6)]\r\n",
        "UrbanFQ3_sort=LpUrbanFQ3[np.argsort(d6)]"
      ],
      "execution_count": 22,
      "outputs": []
    },
    {
      "cell_type": "code",
      "metadata": {
        "colab": {
          "base_uri": "https://localhost:8080/",
          "height": 295
        },
        "id": "QnOeGqi7QWHy",
        "outputId": "42cd8859-1a76-44db-e084-c0d2d2ea240c"
      },
      "source": [
        "fig, ax = plt.subplots()\r\n",
        "ax.plot(d4_sort,UrbanFQ_sort, color='b', label='700 MHz')\r\n",
        "ax.plot(d5_sort,UrbanFQ2_sort, color='r', label='900 MHz')\r\n",
        "ax.plot(d6_sort,UrbanFQ3_sort, color='g', label='1800 MHz')\r\n",
        "ax.set_title('Urban Area Model based on Frequency Area given')\r\n",
        "ax.set_xlabel('Distance (m)')\r\n",
        "ax.set_ylabel('Pathloss (dB)')\r\n",
        "ax.legend(loc='upper left')\r\n",
        "plt.show()"
      ],
      "execution_count": 23,
      "outputs": [
        {
          "output_type": "display_data",
          "data": {
            "image/png": "[encoded data removed]",
            "text/plain": [
              "<Figure size 432x288 with 1 Axes>"
            ]
          },
          "metadata": {
            "tags": [],
            "needs_background": "light"
          }
        }
      ]
    },
    {
      "cell_type": "code",
      "metadata": {
        "id": "fz6VG0dHQacD"
      },
      "source": [
        ""
      ],
      "execution_count": null,
      "outputs": []
    }
  ]
}